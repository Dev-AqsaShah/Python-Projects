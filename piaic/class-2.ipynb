{
 "cells": [
  {
   "cell_type": "code",
   "execution_count": 1,
   "metadata": {},
   "outputs": [
    {
     "data": {
      "text/plain": [
       "'PIAIC \\n student name : aqsa shah'"
      ]
     },
     "metadata": {},
     "output_type": "display_data"
    },
    {
     "name": "stdout",
     "output_type": "stream",
     "text": [
      "PIAIC \n",
      " student name : aqsa shah\n"
     ]
    }
   ],
   "source": [
    "data : str = \"PIAIC \\n student name : aqsa shah\"\n",
    "display(data)\n",
    "print(data)"
   ]
  },
  {
   "cell_type": "code",
   "execution_count": 2,
   "metadata": {},
   "outputs": [
    {
     "data": {
      "text/plain": [
       "'PIAIC \\nstudent name :\\naqsa shah'"
      ]
     },
     "metadata": {},
     "output_type": "display_data"
    },
    {
     "name": "stdout",
     "output_type": "stream",
     "text": [
      "PIAIC \n",
      "student name :\n",
      "aqsa shah\n"
     ]
    }
   ],
   "source": [
    "data : str = \"\"\"PIAIC \n",
    "student name :\n",
    "aqsa shah\"\"\"\n",
    "display(data)\n",
    "print(data)"
   ]
  },
  {
   "cell_type": "code",
   "execution_count": 9,
   "metadata": {},
   "outputs": [
    {
     "name": "stdout",
     "output_type": "stream",
     "text": [
      "Hello I am  aqsa shah  and my father name is  Mahdi my roll num is  123\n"
     ]
    }
   ],
   "source": [
    "name : str = \"aqsa shah\"\n",
    "father_name : str = \"Mahdi\"\n",
    "roll : int = 123\n",
    "\n",
    "message : str = \"Hello I am  %s  and my father name is  %s my roll num is  %d\" %(name, father_name, roll)\n",
    "\n",
    "print(message)"
   ]
  },
  {
   "cell_type": "code",
   "execution_count": 11,
   "metadata": {},
   "outputs": [
    {
     "name": "stdout",
     "output_type": "stream",
     "text": [
      "Hello I am  aqsa shah  and my father name is Mahdi my roll num is  123\n"
     ]
    }
   ],
   "source": [
    "name : str = \"aqsa shah\"\n",
    "father_name : str = \"Mahdi\"\n",
    "roll : int = 123\n",
    "\n",
    "message : str = f\"Hello I am  {name}  and my father name is {father_name} my roll num is  {roll}\" \n",
    "\n",
    "print(message)"
   ]
  }
 ],
 "metadata": {
  "kernelspec": {
   "display_name": "Python 3",
   "language": "python",
   "name": "python3"
  },
  "language_info": {
   "codemirror_mode": {
    "name": "ipython",
    "version": 3
   },
   "file_extension": ".py",
   "mimetype": "text/x-python",
   "name": "python",
   "nbconvert_exporter": "python",
   "pygments_lexer": "ipython3",
   "version": "3.12.4"
  }
 },
 "nbformat": 4,
 "nbformat_minor": 2
}
